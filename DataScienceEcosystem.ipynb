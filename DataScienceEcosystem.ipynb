{
 "cells": [
  {
   "cell_type": "markdown",
   "id": "11bcafa6",
   "metadata": {},
   "source": [
    "# Data Science Tools and Ecosystem"
   ]
  },
  {
   "cell_type": "markdown",
   "id": "6526779f",
   "metadata": {},
   "source": [
    "In this Notebook, Data Science tools and Ecosystem are summarized."
   ]
  },
  {
   "cell_type": "markdown",
   "id": "eef134c0",
   "metadata": {},
   "source": [
    "**Objectives\n",
    "- List Some popular langugages that Data Scientist use\n",
    "- List Some commonly used libraries used by Data Scientist\n",
    "- List Data Science Tools\n",
    "- Evaluating arithemetic expression in Python\n"
   ]
  },
  {
   "cell_type": "markdown",
   "id": "3dfdd399",
   "metadata": {},
   "source": [
    "Some of the popular languages that Data Scientists use are:\n",
    "1. Python programming language\n",
    "2. R Studio\n",
    "3. SQL\n",
    "4. C++\n",
    "5. Julia\n",
    "6. MATLAB\n"
   ]
  },
  {
   "cell_type": "markdown",
   "id": "e612b953",
   "metadata": {},
   "source": [
    "Some of the commonly used libraries used by Data Scientist include:\n",
    "1. Numpy\n",
    "2. SciPy\n",
    "3. Sci-Kit learn\n",
    "4. Matplotlib"
   ]
  },
  {
   "cell_type": "markdown",
   "id": "36193068",
   "metadata": {},
   "source": [
    "|Data Science Tools|\n",
    "|----|\n",
    "|Tensorflow|\n",
    "|Apache Spark|\n",
    "|ggplot|"
   ]
  },
  {
   "cell_type": "markdown",
   "id": "ad617464",
   "metadata": {},
   "source": [
    "### Below are a few examples of evaluating arithemetic expressions in Python"
   ]
  },
  {
   "cell_type": "code",
   "execution_count": 2,
   "id": "ab765d0a",
   "metadata": {},
   "outputs": [
    {
     "data": {
      "text/plain": [
       "17"
      ]
     },
     "execution_count": 2,
     "metadata": {},
     "output_type": "execute_result"
    }
   ],
   "source": [
    "#This is a simple arithemetic expression to multiply and then add integers\n",
    "(3*4)+5"
   ]
  },
  {
   "cell_type": "code",
   "execution_count": 3,
   "id": "bc82ed51",
   "metadata": {},
   "outputs": [
    {
     "data": {
      "text/plain": [
       "3.3333333333333335"
      ]
     },
     "execution_count": 3,
     "metadata": {},
     "output_type": "execute_result"
    }
   ],
   "source": [
    "# This will convert 200minutes to hours by dividing by 60\n",
    "200/60"
   ]
  },
  {
   "cell_type": "markdown",
   "id": "f318c4bf",
   "metadata": {},
   "source": [
    "## Author\n",
    "Omonjeva Blessing"
   ]
  },
  {
   "cell_type": "code",
   "execution_count": null,
   "id": "dead65ad",
   "metadata": {},
   "outputs": [],
   "source": []
  }
 ],
 "metadata": {
  "kernelspec": {
   "display_name": "Python 3 (ipykernel)",
   "language": "python",
   "name": "python3"
  },
  "language_info": {
   "codemirror_mode": {
    "name": "ipython",
    "version": 3
   },
   "file_extension": ".py",
   "mimetype": "text/x-python",
   "name": "python",
   "nbconvert_exporter": "python",
   "pygments_lexer": "ipython3",
   "version": "3.10.9"
  }
 },
 "nbformat": 4,
 "nbformat_minor": 5
}
